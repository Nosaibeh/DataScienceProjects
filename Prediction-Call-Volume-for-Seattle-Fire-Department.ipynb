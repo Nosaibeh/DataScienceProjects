{
 "cells": [
  {
   "cell_type": "markdown",
   "id": "0cef37e3",
   "metadata": {},
   "source": [
    "# Prediction of Call Volume for Seattle Fire Department\n",
    "\n",
    "### 1. Problem definition\n",
    "\n",
    "    How well can we predict the amount of calls per hour and per day for Seattle Fire Department\n",
    "\n",
    "### 2. Data\n",
    "\n",
    "The data is downloaded from the dataset of 911 calls at data_Seattle_gov: https://data.seattle.gov/Public-Safety/Seattle-Real-Time-Fire-911-Calls/kzjm-xkqj\n",
    "\n",
    "I made them in three main datasets:\n",
    "\n",
    "  - The training set, which contains data of years: 2016, 2017, 2018 and 2019.\n",
    "  - The validation set, which contains data of year: 2020\n",
    "  - The test set, which contains data of year: 2021\n",
    "\n",
    "### 3. Evaluation\n",
    "\n",
    "The evaluation metric for this project is the RMSLE (root mean squared log error) between the actual and predicted amount of calls and also backtesting plot.\n",
    "\n",
    "\n",
    "\n",
    "  > Note: The goal for most regression evaluation metrics is to minimize the error. For example, our goal for this project will be to build a machine learning model which minimises RMSLE."
   ]
  },
  {
   "cell_type": "code",
   "execution_count": 1,
   "id": "689767eb",
   "metadata": {},
   "outputs": [],
   "source": [
    "import pandas as pd\n",
    "import numpy as np\n",
    "import matplotlib.pyplot as plt\n",
    "import sklearn\n",
    "import datetime as dt\n",
    "import json\n",
    "import os"
   ]
  },
  {
   "cell_type": "code",
   "execution_count": 27,
   "id": "36e1c983",
   "metadata": {},
   "outputs": [],
   "source": [
    "# import our data\n",
    "df = pd.read_csv(\"Seattle_Real_Time_Fire_911_Calls.csv\",\n",
    "                 parse_dates=[\"Datetime\"])"
   ]
  },
  {
   "cell_type": "markdown",
   "id": "29679fa4",
   "metadata": {},
   "source": [
    "# Getting Data ready\n",
    "\n",
    "### separate the part of data that we need\n",
    "\n",
    "   -  At the first step we separate the data from 2016 to 2021\n",
    "   -  Because in this project the exact address of calls are not important, we remove the columns contains information of address\n",
    "   -  We check if we have some missing data or non numerical data\n",
    "   -  Make separated columns of 'Datetime' column and order them by time\n",
    "\n",
    "        "
   ]
  },
  {
   "cell_type": "code",
   "execution_count": 28,
   "id": "c9b73d47",
   "metadata": {},
   "outputs": [],
   "source": [
    "# removing adress information\n",
    "df = df.drop(['Address', 'Type', 'Latitude', 'Longitude', 'Report Location', 'Incident Number'] , axis=1)"
   ]
  },
  {
   "cell_type": "code",
   "execution_count": 29,
   "id": "1de27416",
   "metadata": {},
   "outputs": [],
   "source": [
    "# select the period of time that we need (2016 - 2021)\n",
    "df = df [(df['Datetime']>='2016-01-01') & (df['Datetime']<'2022-01-01')]"
   ]
  },
  {
   "cell_type": "code",
   "execution_count": 30,
   "id": "75d05875",
   "metadata": {},
   "outputs": [
    {
     "data": {
      "text/plain": [
       "Datetime    0\n",
       "dtype: int64"
      ]
     },
     "execution_count": 30,
     "metadata": {},
     "output_type": "execute_result"
    }
   ],
   "source": [
    "# check if there is any missing data\n",
    "df.isna().sum()"
   ]
  },
  {
   "cell_type": "code",
   "execution_count": 31,
   "id": "b95d0dd7",
   "metadata": {},
   "outputs": [],
   "source": [
    "# order the 'Datetime' column by time and extract 'year', 'month', 'Day_of_week', 'day_of_month', 'day_of_year' and 'hour' from it.\n",
    "\n",
    "df[\"Datetime\"] = pd.to_datetime(df[\"Datetime\"])\n",
    "df= df.sort_values(by=[\"Datetime\"], ascending=True)\n",
    "\n",
    "df['Year'] = df['Datetime'].dt.year\n",
    "df['Month'] = df['Datetime'].dt.month\n",
    "df['Day-of-week'] = df['Datetime'].dt.dayofweek\n",
    "df['Day-of-month'] = df['Datetime'].dt.day\n",
    "df['Day-of-year'] = df['Datetime'].dt.dayofyear\n",
    "df['Hour'] = df['Datetime'].dt.hour"
   ]
  },
  {
   "cell_type": "code",
   "execution_count": 32,
   "id": "23a69ebc",
   "metadata": {},
   "outputs": [
    {
     "name": "stdout",
     "output_type": "stream",
     "text": [
      "<class 'pandas.core.frame.DataFrame'>\n",
      "Int64Index: 609306 entries, 1022531 to 1651967\n",
      "Data columns (total 7 columns):\n",
      " #   Column        Non-Null Count   Dtype         \n",
      "---  ------        --------------   -----         \n",
      " 0   Datetime      609306 non-null  datetime64[ns]\n",
      " 1   Year          609306 non-null  int64         \n",
      " 2   Month         609306 non-null  int64         \n",
      " 3   Day-of-week   609306 non-null  int64         \n",
      " 4   Day-of-month  609306 non-null  int64         \n",
      " 5   Day-of-year   609306 non-null  int64         \n",
      " 6   Hour          609306 non-null  int64         \n",
      "dtypes: datetime64[ns](1), int64(6)\n",
      "memory usage: 37.2 MB\n"
     ]
    }
   ],
   "source": [
    "# check the type of our data\n",
    "df.info()"
   ]
  },
  {
   "cell_type": "code",
   "execution_count": 33,
   "id": "cf39b17d",
   "metadata": {},
   "outputs": [
    {
     "data": {
      "text/html": [
       "<div>\n",
       "<style scoped>\n",
       "    .dataframe tbody tr th:only-of-type {\n",
       "        vertical-align: middle;\n",
       "    }\n",
       "\n",
       "    .dataframe tbody tr th {\n",
       "        vertical-align: top;\n",
       "    }\n",
       "\n",
       "    .dataframe thead th {\n",
       "        text-align: right;\n",
       "    }\n",
       "</style>\n",
       "<table border=\"1\" class=\"dataframe\">\n",
       "  <thead>\n",
       "    <tr style=\"text-align: right;\">\n",
       "      <th></th>\n",
       "      <th>Datetime</th>\n",
       "      <th>Year</th>\n",
       "      <th>Month</th>\n",
       "      <th>Day-of-week</th>\n",
       "      <th>Day-of-month</th>\n",
       "      <th>Day-of-year</th>\n",
       "      <th>Hour</th>\n",
       "    </tr>\n",
       "  </thead>\n",
       "  <tbody>\n",
       "    <tr>\n",
       "      <th>1022531</th>\n",
       "      <td>2016-01-01 00:05:37</td>\n",
       "      <td>2016</td>\n",
       "      <td>1</td>\n",
       "      <td>4</td>\n",
       "      <td>1</td>\n",
       "      <td>1</td>\n",
       "      <td>0</td>\n",
       "    </tr>\n",
       "    <tr>\n",
       "      <th>1022532</th>\n",
       "      <td>2016-01-01 00:10:49</td>\n",
       "      <td>2016</td>\n",
       "      <td>1</td>\n",
       "      <td>4</td>\n",
       "      <td>1</td>\n",
       "      <td>1</td>\n",
       "      <td>0</td>\n",
       "    </tr>\n",
       "    <tr>\n",
       "      <th>1022533</th>\n",
       "      <td>2016-01-01 00:18:36</td>\n",
       "      <td>2016</td>\n",
       "      <td>1</td>\n",
       "      <td>4</td>\n",
       "      <td>1</td>\n",
       "      <td>1</td>\n",
       "      <td>0</td>\n",
       "    </tr>\n",
       "    <tr>\n",
       "      <th>1022534</th>\n",
       "      <td>2016-01-01 00:19:11</td>\n",
       "      <td>2016</td>\n",
       "      <td>1</td>\n",
       "      <td>4</td>\n",
       "      <td>1</td>\n",
       "      <td>1</td>\n",
       "      <td>0</td>\n",
       "    </tr>\n",
       "    <tr>\n",
       "      <th>1022535</th>\n",
       "      <td>2016-01-01 00:24:02</td>\n",
       "      <td>2016</td>\n",
       "      <td>1</td>\n",
       "      <td>4</td>\n",
       "      <td>1</td>\n",
       "      <td>1</td>\n",
       "      <td>0</td>\n",
       "    </tr>\n",
       "    <tr>\n",
       "      <th>1022536</th>\n",
       "      <td>2016-01-01 00:29:03</td>\n",
       "      <td>2016</td>\n",
       "      <td>1</td>\n",
       "      <td>4</td>\n",
       "      <td>1</td>\n",
       "      <td>1</td>\n",
       "      <td>0</td>\n",
       "    </tr>\n",
       "    <tr>\n",
       "      <th>1022537</th>\n",
       "      <td>2016-01-01 00:29:48</td>\n",
       "      <td>2016</td>\n",
       "      <td>1</td>\n",
       "      <td>4</td>\n",
       "      <td>1</td>\n",
       "      <td>1</td>\n",
       "      <td>0</td>\n",
       "    </tr>\n",
       "    <tr>\n",
       "      <th>1022538</th>\n",
       "      <td>2016-01-01 00:29:58</td>\n",
       "      <td>2016</td>\n",
       "      <td>1</td>\n",
       "      <td>4</td>\n",
       "      <td>1</td>\n",
       "      <td>1</td>\n",
       "      <td>0</td>\n",
       "    </tr>\n",
       "    <tr>\n",
       "      <th>1022539</th>\n",
       "      <td>2016-01-01 00:33:55</td>\n",
       "      <td>2016</td>\n",
       "      <td>1</td>\n",
       "      <td>4</td>\n",
       "      <td>1</td>\n",
       "      <td>1</td>\n",
       "      <td>0</td>\n",
       "    </tr>\n",
       "    <tr>\n",
       "      <th>1022540</th>\n",
       "      <td>2016-01-01 00:36:22</td>\n",
       "      <td>2016</td>\n",
       "      <td>1</td>\n",
       "      <td>4</td>\n",
       "      <td>1</td>\n",
       "      <td>1</td>\n",
       "      <td>0</td>\n",
       "    </tr>\n",
       "  </tbody>\n",
       "</table>\n",
       "</div>"
      ],
      "text/plain": [
       "                   Datetime  Year  Month  Day-of-week  Day-of-month  \\\n",
       "1022531 2016-01-01 00:05:37  2016      1            4             1   \n",
       "1022532 2016-01-01 00:10:49  2016      1            4             1   \n",
       "1022533 2016-01-01 00:18:36  2016      1            4             1   \n",
       "1022534 2016-01-01 00:19:11  2016      1            4             1   \n",
       "1022535 2016-01-01 00:24:02  2016      1            4             1   \n",
       "1022536 2016-01-01 00:29:03  2016      1            4             1   \n",
       "1022537 2016-01-01 00:29:48  2016      1            4             1   \n",
       "1022538 2016-01-01 00:29:58  2016      1            4             1   \n",
       "1022539 2016-01-01 00:33:55  2016      1            4             1   \n",
       "1022540 2016-01-01 00:36:22  2016      1            4             1   \n",
       "\n",
       "         Day-of-year  Hour  \n",
       "1022531            1     0  \n",
       "1022532            1     0  \n",
       "1022533            1     0  \n",
       "1022534            1     0  \n",
       "1022535            1     0  \n",
       "1022536            1     0  \n",
       "1022537            1     0  \n",
       "1022538            1     0  \n",
       "1022539            1     0  \n",
       "1022540            1     0  "
      ]
     },
     "execution_count": 33,
     "metadata": {},
     "output_type": "execute_result"
    }
   ],
   "source": [
    "# look at data\n",
    "df.head(10)"
   ]
  },
  {
   "cell_type": "markdown",
   "id": "ecda93ff",
   "metadata": {},
   "source": [
    "# Make target in our Dataframe \n",
    "\n",
    "  - Find the number of calls per hour\n",
    "  - Find the number of calls per day\n",
    "  - Make subsets of our data: Train, Validation and Test datasets\n",
    "\n"
   ]
  },
  {
   "cell_type": "code",
   "execution_count": 34,
   "id": "7d18f37d",
   "metadata": {},
   "outputs": [],
   "source": [
    "# this function make the number of calls per hour\n",
    "\n",
    "def prepare_hourly_data(dataframe, start_date, end_date):\n",
    "    \n",
    "    data_window =  dataframe [(dataframe['Datetime']>=start_date) & (dataframe['Datetime']<end_date)]\n",
    "    \n",
    "    data_DROPPED = data_window.drop (['Datetime'], axis=1)\n",
    "    \n",
    "    data_calls = data_DROPPED.groupby('Day-of-year')['Hour'].value_counts().reset_index(name='Hourly_calls')\n",
    "    \n",
    "    data_DROPPED_withouthour = data_DROPPED.drop (['Hour'] , axis=1)\n",
    "    \n",
    "    data_DROPPED_withouthour.set_index('Day-of-year', inplace=True)\n",
    "    \n",
    "    data_calls.set_index('Day-of-year', inplace=True)\n",
    "    \n",
    "    data_join = data_DROPPED_withouthour.join(data_calls, how='left')\n",
    "    \n",
    "    df_true_index = data_join.reset_index(level=0)\n",
    "    \n",
    "    df_final = df_true_index.drop_duplicates().reset_index(drop=True)\n",
    "    \n",
    "    result = df_final [['Year', 'Day-of-year', 'Month', 'Day-of-month', 'Day-of-week', 'Hour', 'Hourly_calls']]\n",
    "    \n",
    "\n",
    "    return result"
   ]
  },
  {
   "cell_type": "code",
   "execution_count": 35,
   "id": "e2218ac7",
   "metadata": {},
   "outputs": [],
   "source": [
    "df_2016= prepare_hourly_data(df, '2016-01-01', '2017-01-01')"
   ]
  },
  {
   "cell_type": "code",
   "execution_count": 36,
   "id": "674063c7",
   "metadata": {},
   "outputs": [],
   "source": [
    "df_2017= prepare_hourly_data(df, '2017-01-01', '2018-01-01')"
   ]
  },
  {
   "cell_type": "code",
   "execution_count": 37,
   "id": "f997f624",
   "metadata": {},
   "outputs": [],
   "source": [
    "df_2018= prepare_hourly_data(df, '2018-01-01', '2019-01-01')"
   ]
  },
  {
   "cell_type": "code",
   "execution_count": 38,
   "id": "3661e0c1",
   "metadata": {},
   "outputs": [],
   "source": [
    "df_2019= prepare_hourly_data(df, '2019-01-01', '2020-01-01')"
   ]
  },
  {
   "cell_type": "code",
   "execution_count": 39,
   "id": "4a0daf48",
   "metadata": {},
   "outputs": [],
   "source": [
    "df_2020= prepare_hourly_data(df, '2020-01-01', '2021-01-01')"
   ]
  },
  {
   "cell_type": "code",
   "execution_count": 40,
   "id": "072e5ba3",
   "metadata": {},
   "outputs": [],
   "source": [
    "df_2021= prepare_hourly_data(df, '2021-01-01', '2022-01-01')"
   ]
  },
  {
   "cell_type": "code",
   "execution_count": 41,
   "id": "d3d52273",
   "metadata": {},
   "outputs": [],
   "source": [
    "# make train, validation and test datasets\n",
    "df_train_hourly = pd.concat([df_2016, df_2017, df_2018, df_2019]).reset_index(drop=True)\n",
    "df_val_hourly = df_2020\n",
    "df_train_val_hourly = pd.concat([df_2016, df_2017, df_2018, df_2019, df_2020]).reset_index(drop=True)\n",
    "df_test_hourly = df_2021"
   ]
  },
  {
   "cell_type": "code",
   "execution_count": 42,
   "id": "bbde7fca",
   "metadata": {},
   "outputs": [
    {
     "data": {
      "text/html": [
       "<div>\n",
       "<style scoped>\n",
       "    .dataframe tbody tr th:only-of-type {\n",
       "        vertical-align: middle;\n",
       "    }\n",
       "\n",
       "    .dataframe tbody tr th {\n",
       "        vertical-align: top;\n",
       "    }\n",
       "\n",
       "    .dataframe thead th {\n",
       "        text-align: right;\n",
       "    }\n",
       "</style>\n",
       "<table border=\"1\" class=\"dataframe\">\n",
       "  <thead>\n",
       "    <tr style=\"text-align: right;\">\n",
       "      <th></th>\n",
       "      <th>Year</th>\n",
       "      <th>Day-of-year</th>\n",
       "      <th>Month</th>\n",
       "      <th>Day-of-month</th>\n",
       "      <th>Day-of-week</th>\n",
       "      <th>Hour</th>\n",
       "      <th>Hourly_calls</th>\n",
       "    </tr>\n",
       "  </thead>\n",
       "  <tbody>\n",
       "    <tr>\n",
       "      <th>0</th>\n",
       "      <td>2016</td>\n",
       "      <td>1</td>\n",
       "      <td>1</td>\n",
       "      <td>1</td>\n",
       "      <td>4</td>\n",
       "      <td>1</td>\n",
       "      <td>33</td>\n",
       "    </tr>\n",
       "    <tr>\n",
       "      <th>1</th>\n",
       "      <td>2016</td>\n",
       "      <td>1</td>\n",
       "      <td>1</td>\n",
       "      <td>1</td>\n",
       "      <td>4</td>\n",
       "      <td>0</td>\n",
       "      <td>24</td>\n",
       "    </tr>\n",
       "    <tr>\n",
       "      <th>2</th>\n",
       "      <td>2016</td>\n",
       "      <td>1</td>\n",
       "      <td>1</td>\n",
       "      <td>1</td>\n",
       "      <td>4</td>\n",
       "      <td>15</td>\n",
       "      <td>20</td>\n",
       "    </tr>\n",
       "    <tr>\n",
       "      <th>3</th>\n",
       "      <td>2016</td>\n",
       "      <td>1</td>\n",
       "      <td>1</td>\n",
       "      <td>1</td>\n",
       "      <td>4</td>\n",
       "      <td>10</td>\n",
       "      <td>19</td>\n",
       "    </tr>\n",
       "    <tr>\n",
       "      <th>4</th>\n",
       "      <td>2016</td>\n",
       "      <td>1</td>\n",
       "      <td>1</td>\n",
       "      <td>1</td>\n",
       "      <td>4</td>\n",
       "      <td>17</td>\n",
       "      <td>19</td>\n",
       "    </tr>\n",
       "    <tr>\n",
       "      <th>...</th>\n",
       "      <td>...</td>\n",
       "      <td>...</td>\n",
       "      <td>...</td>\n",
       "      <td>...</td>\n",
       "      <td>...</td>\n",
       "      <td>...</td>\n",
       "      <td>...</td>\n",
       "    </tr>\n",
       "    <tr>\n",
       "      <th>34994</th>\n",
       "      <td>2019</td>\n",
       "      <td>365</td>\n",
       "      <td>12</td>\n",
       "      <td>31</td>\n",
       "      <td>1</td>\n",
       "      <td>2</td>\n",
       "      <td>5</td>\n",
       "    </tr>\n",
       "    <tr>\n",
       "      <th>34995</th>\n",
       "      <td>2019</td>\n",
       "      <td>365</td>\n",
       "      <td>12</td>\n",
       "      <td>31</td>\n",
       "      <td>1</td>\n",
       "      <td>7</td>\n",
       "      <td>5</td>\n",
       "    </tr>\n",
       "    <tr>\n",
       "      <th>34996</th>\n",
       "      <td>2019</td>\n",
       "      <td>365</td>\n",
       "      <td>12</td>\n",
       "      <td>31</td>\n",
       "      <td>1</td>\n",
       "      <td>1</td>\n",
       "      <td>4</td>\n",
       "    </tr>\n",
       "    <tr>\n",
       "      <th>34997</th>\n",
       "      <td>2019</td>\n",
       "      <td>365</td>\n",
       "      <td>12</td>\n",
       "      <td>31</td>\n",
       "      <td>1</td>\n",
       "      <td>4</td>\n",
       "      <td>4</td>\n",
       "    </tr>\n",
       "    <tr>\n",
       "      <th>34998</th>\n",
       "      <td>2019</td>\n",
       "      <td>365</td>\n",
       "      <td>12</td>\n",
       "      <td>31</td>\n",
       "      <td>1</td>\n",
       "      <td>3</td>\n",
       "      <td>3</td>\n",
       "    </tr>\n",
       "  </tbody>\n",
       "</table>\n",
       "<p>34999 rows × 7 columns</p>\n",
       "</div>"
      ],
      "text/plain": [
       "       Year  Day-of-year  Month  Day-of-month  Day-of-week  Hour  Hourly_calls\n",
       "0      2016            1      1             1            4     1            33\n",
       "1      2016            1      1             1            4     0            24\n",
       "2      2016            1      1             1            4    15            20\n",
       "3      2016            1      1             1            4    10            19\n",
       "4      2016            1      1             1            4    17            19\n",
       "...     ...          ...    ...           ...          ...   ...           ...\n",
       "34994  2019          365     12            31            1     2             5\n",
       "34995  2019          365     12            31            1     7             5\n",
       "34996  2019          365     12            31            1     1             4\n",
       "34997  2019          365     12            31            1     4             4\n",
       "34998  2019          365     12            31            1     3             3\n",
       "\n",
       "[34999 rows x 7 columns]"
      ]
     },
     "execution_count": 42,
     "metadata": {},
     "output_type": "execute_result"
    }
   ],
   "source": [
    "df_train_hourly"
   ]
  },
  {
   "cell_type": "code",
   "execution_count": null,
   "id": "bf37ac7a",
   "metadata": {},
   "outputs": [],
   "source": [
    "# Save preprocessed data\n",
    "df_train_hourly.to_csv(\"train_hourly.csv\", index=False)\n",
    "df_val_hourly.to_csv(\"val_hourly.csv\", index=False)\n",
    "df_train_val_hourly.to_csv(\"train_val_hourly.csv\", index=False)\n",
    "df_test_hourly.to_csv(\"test_hourly.csv\", index=False)"
   ]
  },
  {
   "cell_type": "code",
   "execution_count": 2,
   "id": "6748675d",
   "metadata": {},
   "outputs": [],
   "source": [
    "# Import data\n",
    "df_train_hourly = pd.read_csv(\"train_hourly.csv\")\n",
    "df_val_hourly = pd.read_csv(\"val_hourly.csv\")\n",
    "df_train_val_hourly = pd.read_csv(\"train_val_hourly.csv\")\n",
    "df_test_hourly = pd.read_csv(\"test_hourly.csv\")"
   ]
  },
  {
   "cell_type": "code",
   "execution_count": 43,
   "id": "431b53ac",
   "metadata": {},
   "outputs": [],
   "source": [
    "def prepare_daily_data(dataframe):\n",
    "\n",
    "    daily_data = dataframe.groupby(['Year', 'Day-of-year'])['Hourly_calls'].sum().reset_index(name='Daily_calls')\n",
    "    \n",
    "    daily_data.drop (['Year'], axis=1, inplace=True)\n",
    "    \n",
    "    result_DROPPED_withouth_call = dataframe.drop (['Hourly_calls'] , axis=1)\n",
    "    \n",
    "    result_DROPPED_withouth_call.set_index('Day-of-year', inplace=True)\n",
    "    \n",
    "    daily_data.set_index('Day-of-year', inplace=True)\n",
    "    \n",
    "    data_join = result_DROPPED_withouth_call.join(daily_data, how='left').reset_index(level=0)\n",
    "    \n",
    "    data_join_complete = data_join.drop_duplicates().reset_index(drop=True)\n",
    "    \n",
    "    df_final = data_join_complete [['Year', 'Day-of-year', 'Month', 'Day-of-month', 'Day-of-week', 'Daily_calls']]\n",
    "   \n",
    "    result = df_final.drop_duplicates().reset_index(drop=True)\n",
    "    \n",
    "    return result   "
   ]
  },
  {
   "cell_type": "code",
   "execution_count": 44,
   "id": "e66bc646",
   "metadata": {},
   "outputs": [],
   "source": [
    "df_train_daily = prepare_daily_data(df_train_hourly)\n",
    "df_val_daily = prepare_daily_data(df_val_hourly)\n",
    "df_train_val_daily = prepare_daily_data(df_train_val_hourly)\n",
    "df_test_daily = prepare_daily_data(df_test_hourly)"
   ]
  },
  {
   "cell_type": "code",
   "execution_count": null,
   "id": "ec5608d2",
   "metadata": {},
   "outputs": [],
   "source": [
    "# Save preprocessed data\n",
    "df_train_daily.to_csv(\"train_daily.csv\", index=False)\n",
    "df_val_daily.to_csv(\"val_daily.csv\", index=False)\n",
    "df_train_val_daily.to_csv(\"train_val_daily.csv\", index=False)\n",
    "df_test_daily.to_csv(\"test_daily.csv\", index=False)"
   ]
  },
  {
   "cell_type": "code",
   "execution_count": null,
   "id": "fa0b4ba8",
   "metadata": {},
   "outputs": [],
   "source": [
    "# Import data\n",
    "df_train_daily = pd.read_csv(\"train_daily.csv\")\n",
    "df_val_daily = pd.read_csv(\"val_daily.csv\")\n",
    "df_train_val_daily = pd.read_csv(\"train_val_daily.csv\")\n",
    "df_test_daily = pd.read_csv(\"test_daily.csv\")"
   ]
  },
  {
   "cell_type": "markdown",
   "id": "e206ba3b",
   "metadata": {},
   "source": [
    "# Modeling\n",
    "\n",
    "  > We start with predicting numbers of calls per hour and evaluate it(target is hourly_calls)\n",
    "    \n",
    "    Using two different model for prediction: \n",
    "        \n",
    "  - 1. XGBRegressor Model\n",
    "  - 2. RandomForestRegressor Model   "
   ]
  },
  {
   "cell_type": "code",
   "execution_count": 3,
   "id": "58c60651",
   "metadata": {},
   "outputs": [
    {
     "data": {
      "text/plain": [
       "((34999, 6), (34999,), (8761, 6), (8761,))"
      ]
     },
     "execution_count": 3,
     "metadata": {},
     "output_type": "execute_result"
    }
   ],
   "source": [
    "# Split data into X & y\n",
    "X_train, y_train = df_train_hourly.drop(\"Hourly_calls\", axis=1), df_train_hourly.Hourly_calls\n",
    "X_valid, y_valid = df_val_hourly.drop(\"Hourly_calls\", axis=1), df_val_hourly.Hourly_calls\n",
    "\n",
    "X_train.shape, y_train.shape, X_valid.shape, y_valid.shape"
   ]
  },
  {
   "cell_type": "markdown",
   "id": "c9a375cb",
   "metadata": {},
   "source": [
    "# Making Evaluation function which we can use for every models"
   ]
  },
  {
   "cell_type": "code",
   "execution_count": 4,
   "id": "c0b55624",
   "metadata": {},
   "outputs": [],
   "source": [
    "from sklearn.metrics import mean_squared_log_error, mean_absolute_error\n",
    "\n",
    "def rmsle(y_test, y_preds):\n",
    "    return np.sqrt(mean_squared_log_error(y_test, y_preds))\n",
    "\n",
    "# Create function to evaluate our model\n",
    "def show_scores(model):\n",
    "    train_preds = model.predict(X_train)\n",
    "    val_preds = model.predict(X_valid)\n",
    "    scores = {\"Training MAE\": mean_absolute_error(y_train, train_preds),\n",
    "              \"Valid MAE\": mean_absolute_error(y_valid, val_preds),\n",
    "              \"Training RMSLE\": rmsle(y_train, train_preds),\n",
    "              \"Valid RMSLE\": rmsle(y_valid, val_preds),\n",
    "              \"Training R^2\": model.score(X_train, y_train),\n",
    "              \"Valid R^2\": model.score(X_valid, y_valid)}\n",
    "    return scores"
   ]
  },
  {
   "cell_type": "markdown",
   "id": "7265cb36",
   "metadata": {},
   "source": [
    "# XGBRegressor Model"
   ]
  },
  {
   "cell_type": "code",
   "execution_count": 5,
   "id": "ee592ad0",
   "metadata": {},
   "outputs": [
    {
     "name": "stdout",
     "output_type": "stream",
     "text": [
      "CPU times: user 11.4 s, sys: 794 ms, total: 12.2 s\n",
      "Wall time: 3.17 s\n"
     ]
    },
    {
     "data": {
      "text/plain": [
       "{'Training MAE': 2.8017019665702083,\n",
       " 'Valid MAE': 2.9292198029735728,\n",
       " 'Training RMSLE': 0.31426041938235905,\n",
       " 'Valid RMSLE': 0.3506860770570883,\n",
       " 'Training R^2': 0.5136655326048118,\n",
       " 'Valid R^2': 0.383084288256066}"
      ]
     },
     "execution_count": 5,
     "metadata": {},
     "output_type": "execute_result"
    }
   ],
   "source": [
    "%%time\n",
    "\n",
    "import xgboost as xgb\n",
    "from xgboost import plot_importance, plot_tree\n",
    "\n",
    "\n",
    "model = xgb.XGBRegressor(n_estimators=500, learning_rate=0.01)\n",
    "\n",
    "# Fit the model\n",
    "model.fit(X_train, y_train)\n",
    "\n",
    "show_scores(model)"
   ]
  },
  {
   "cell_type": "markdown",
   "id": "3fba8dd4",
   "metadata": {},
   "source": [
    "# Hyperparameter tuning with RandomizedSearchCV\n",
    "\n",
    "  > Tuning the hyperparameters of XGBregressor model to make better result ('decreasing 'Valid RMSLE') with Randomizedsearch Cross-Validation method"
   ]
  },
  {
   "cell_type": "code",
   "execution_count": 6,
   "id": "cf6c2c43",
   "metadata": {},
   "outputs": [
    {
     "name": "stdout",
     "output_type": "stream",
     "text": [
      "Fitting 5 folds for each of 100 candidates, totalling 500 fits\n",
      "CPU times: user 14min 31s, sys: 29.3 s, total: 15min\n",
      "Wall time: 3min 53s\n"
     ]
    },
    {
     "data": {
      "text/plain": [
       "RandomizedSearchCV(cv=5,\n",
       "                   estimator=XGBRegressor(base_score=None, booster=None,\n",
       "                                          colsample_bylevel=None,\n",
       "                                          colsample_bynode=None,\n",
       "                                          colsample_bytree=None,\n",
       "                                          enable_categorical=False, gamma=None,\n",
       "                                          gpu_id=None, importance_type=None,\n",
       "                                          interaction_constraints=None,\n",
       "                                          learning_rate=None,\n",
       "                                          max_delta_step=None, max_depth=None,\n",
       "                                          min_child_weight=None, missing=nan,\n",
       "                                          monotone_constraints=...\n",
       "       0.23, 0.24, 0.25, 0.26, 0.27, 0.28, 0.29, 0.3 , 0.31, 0.32, 0.33,\n",
       "       0.34, 0.35, 0.36, 0.37, 0.38, 0.39, 0.4 , 0.41, 0.42, 0.43, 0.44,\n",
       "       0.45, 0.46, 0.47, 0.48, 0.49, 0.5 , 0.51, 0.52, 0.53, 0.54, 0.55,\n",
       "       0.56, 0.57, 0.58, 0.59, 0.6 , 0.61, 0.62, 0.63, 0.64, 0.65, 0.66,\n",
       "       0.67, 0.68, 0.69, 0.7 , 0.71, 0.72, 0.73, 0.74, 0.75, 0.76, 0.77,\n",
       "       0.78, 0.79, 0.8 , 0.81, 0.82, 0.83, 0.84, 0.85, 0.86, 0.87, 0.88,\n",
       "       0.89, 0.9 , 0.91, 0.92, 0.93, 0.94, 0.95, 0.96, 0.97, 0.98, 0.99])},\n",
       "                   verbose=True)"
      ]
     },
     "execution_count": 6,
     "metadata": {},
     "output_type": "execute_result"
    }
   ],
   "source": [
    "%%time\n",
    "from sklearn.model_selection import RandomizedSearchCV\n",
    "\n",
    "# Different XGBRegressor hyperparameters\n",
    "XGB_grid = {'max_depth': [3, 4, 5, 6, 7, 8, 9, 10, 11, 12],\n",
    "        'min_child_weight': np.arange(0.0001, 0.5, 0.001),\n",
    "        'gamma': np.arange(0.0,40.0,0.005),\n",
    "        'learning_rate': np.arange(0.0005,0.3,0.0005),\n",
    "        'subsample': np.arange(0.01,1.0,0.01),\n",
    "        'colsample_bylevel': np.round(np.arange(0.1,1.0,0.01)),\n",
    "        'colsample_bytree': np.arange(0.1,1.0,0.01) }\n",
    "                                      \n",
    "XGB_model = RandomizedSearchCV(xgb.XGBRegressor(),\n",
    "                              param_distributions=XGB_grid,\n",
    "                              n_iter=100,\n",
    "                              cv=5,\n",
    "                              verbose=True)\n",
    "\n",
    "XGB_model.fit(X_train, y_train)"
   ]
  },
  {
   "cell_type": "code",
   "execution_count": 7,
   "id": "1dd14917",
   "metadata": {},
   "outputs": [
    {
     "data": {
      "text/plain": [
       "{'subsample': 0.99,\n",
       " 'min_child_weight': 0.1311,\n",
       " 'max_depth': 5,\n",
       " 'learning_rate': 0.0795,\n",
       " 'gamma': 4.275,\n",
       " 'colsample_bytree': 0.6899999999999997,\n",
       " 'colsample_bylevel': 1.0}"
      ]
     },
     "execution_count": 7,
     "metadata": {},
     "output_type": "execute_result"
    }
   ],
   "source": [
    "# Find the best parameters from the RandomizedSearch \n",
    "XGB_model.best_params_"
   ]
  },
  {
   "cell_type": "code",
   "execution_count": 8,
   "id": "dbc749c9",
   "metadata": {},
   "outputs": [
    {
     "data": {
      "text/plain": [
       "{'Training MAE': 2.82389671169876,\n",
       " 'Valid MAE': 2.948222322641422,\n",
       " 'Training RMSLE': 0.31729095934949825,\n",
       " 'Valid RMSLE': 0.3529318646675154,\n",
       " 'Training R^2': 0.5073319642810081,\n",
       " 'Valid R^2': 0.374742056686583}"
      ]
     },
     "execution_count": 8,
     "metadata": {},
     "output_type": "execute_result"
    }
   ],
   "source": [
    "# Evaluate the RandomizedSearch model\n",
    "show_scores(XGB_model)"
   ]
  },
  {
   "cell_type": "markdown",
   "id": "ab5b85f1",
   "metadata": {},
   "source": [
    "# Train a model with the best parameters"
   ]
  },
  {
   "cell_type": "code",
   "execution_count": 9,
   "id": "e2a1addf",
   "metadata": {},
   "outputs": [
    {
     "data": {
      "text/plain": [
       "{'Training MAE': 2.82389671169876,\n",
       " 'Valid MAE': 2.948222322641422,\n",
       " 'Training RMSLE': 0.31729095934949825,\n",
       " 'Valid RMSLE': 0.3529318646675154,\n",
       " 'Training R^2': 0.5073319642810081,\n",
       " 'Valid R^2': 0.374742056686583}"
      ]
     },
     "execution_count": 9,
     "metadata": {},
     "output_type": "execute_result"
    }
   ],
   "source": [
    "model = xgb.XGBRegressor(subsample = 0.99,\n",
    "                         min_child_weight = 0.1391,\n",
    "                         max_depth = 5,\n",
    "                         learning_rate = 0.0795,\n",
    "                         gamma = 4.275,\n",
    "                         colsample_bytree = 0.6899999,\n",
    "                         colsample_bylevel = 1.0)\n",
    "\n",
    "# Fit the model\n",
    "model.fit(X_train, y_train)\n",
    "\n",
    "show_scores(model)"
   ]
  },
  {
   "cell_type": "markdown",
   "id": "ab8f170b",
   "metadata": {},
   "source": [
    "# RandomForestRegressor Model"
   ]
  },
  {
   "cell_type": "code",
   "execution_count": 10,
   "id": "1bae876c",
   "metadata": {},
   "outputs": [
    {
     "name": "stdout",
     "output_type": "stream",
     "text": [
      "CPU times: user 9.25 s, sys: 634 ms, total: 9.89 s\n",
      "Wall time: 2.74 s\n"
     ]
    },
    {
     "data": {
      "text/plain": [
       "{'Training MAE': 1.133345524157833,\n",
       " 'Valid MAE': 3.2182513411710993,\n",
       " 'Training RMSLE': 0.14166752697323975,\n",
       " 'Valid RMSLE': 0.3767741415623617,\n",
       " 'Training R^2': 0.9201632562395422,\n",
       " 'Valid R^2': 0.24539520297705397}"
      ]
     },
     "execution_count": 10,
     "metadata": {},
     "output_type": "execute_result"
    }
   ],
   "source": [
    "%%time\n",
    "\n",
    "from sklearn.ensemble import RandomForestRegressor\n",
    "\n",
    "model = RandomForestRegressor(n_jobs=-1, random_state=42)\n",
    "\n",
    "# Fit the model\n",
    "model.fit(X_train, y_train)\n",
    "\n",
    "show_scores(model)"
   ]
  },
  {
   "cell_type": "markdown",
   "id": "3e26874f",
   "metadata": {},
   "source": [
    "# Hyperparameter tuning with RandomizedSearchCV\n",
    "\n",
    "  > Tuning the hyperparameters of RandomForestregressor model to make better result ('decreasing 'Valid RMSLE') with Randomizedsearch Cross-Validation method"
   ]
  },
  {
   "cell_type": "code",
   "execution_count": 11,
   "id": "abf0019e",
   "metadata": {},
   "outputs": [
    {
     "name": "stdout",
     "output_type": "stream",
     "text": [
      "Fitting 5 folds for each of 100 candidates, totalling 500 fits\n",
      "CPU times: user 2min 25s, sys: 1.01 s, total: 2min 26s\n",
      "Wall time: 2min 26s\n"
     ]
    },
    {
     "data": {
      "text/plain": [
       "RandomizedSearchCV(cv=5, estimator=RandomForestRegressor(), n_iter=100,\n",
       "                   param_distributions={'max_depth': [None, 3, 5, 10],\n",
       "                                        'max_features': [0.5, 1, 'sqrt',\n",
       "                                                         'auto'],\n",
       "                                        'max_samples': [10000],\n",
       "                                        'min_samples_leaf': array([ 1,  3,  5,  7,  9, 11, 13, 15, 17, 19]),\n",
       "                                        'min_samples_split': array([ 2,  4,  6,  8, 10, 12, 14, 16, 18]),\n",
       "                                        'n_estimators': array([10, 20, 30, 40, 50, 60, 70, 80, 90])},\n",
       "                   verbose=True)"
      ]
     },
     "execution_count": 11,
     "metadata": {},
     "output_type": "execute_result"
    }
   ],
   "source": [
    "\n",
    "\n",
    "%%time\n",
    "from sklearn.model_selection import RandomizedSearchCV\n",
    "\n",
    "# Different RandomForestClassifier hyperparameters\n",
    "rf_grid = {\"n_estimators\": np.arange(10, 100, 10),\n",
    "           \"max_depth\": [None, 3, 5, 10],\n",
    "           \"min_samples_split\": np.arange(2, 20, 2),\n",
    "           \"min_samples_leaf\": np.arange(1, 20, 2),\n",
    "           \"max_features\": [0.5, 1, \"sqrt\", \"auto\"],\n",
    "           \"max_samples\": [10000]}\n",
    "\n",
    "rs_model = RandomizedSearchCV(RandomForestRegressor(),\n",
    "                              param_distributions=rf_grid,\n",
    "                              n_iter=100,\n",
    "                              cv=5,\n",
    "                              verbose=True)\n",
    "\n",
    "rs_model.fit(X_train, y_train)\n",
    "\n"
   ]
  },
  {
   "cell_type": "code",
   "execution_count": 12,
   "id": "24dca045",
   "metadata": {},
   "outputs": [
    {
     "data": {
      "text/plain": [
       "{'n_estimators': 80,\n",
       " 'min_samples_split': 18,\n",
       " 'min_samples_leaf': 1,\n",
       " 'max_samples': 10000,\n",
       " 'max_features': 'auto',\n",
       " 'max_depth': 10}"
      ]
     },
     "execution_count": 12,
     "metadata": {},
     "output_type": "execute_result"
    }
   ],
   "source": [
    "# Find the best parameters from the RandomizedSearch \n",
    "rs_model.best_params_"
   ]
  },
  {
   "cell_type": "code",
   "execution_count": 13,
   "id": "5e311059",
   "metadata": {},
   "outputs": [
    {
     "data": {
      "text/plain": [
       "{'Training MAE': 2.7901554449988257,\n",
       " 'Valid MAE': 2.9703243078354786,\n",
       " 'Training RMSLE': 0.31228884045373806,\n",
       " 'Valid RMSLE': 0.3541176128831448,\n",
       " 'Training R^2': 0.5186929706454619,\n",
       " 'Valid R^2': 0.36689373002452386}"
      ]
     },
     "execution_count": 13,
     "metadata": {},
     "output_type": "execute_result"
    }
   ],
   "source": [
    "# Evaluate the RandomizedSearch model\n",
    "show_scores(rs_model)"
   ]
  },
  {
   "cell_type": "markdown",
   "id": "7281635b",
   "metadata": {},
   "source": [
    "# Train the model with the best parameters"
   ]
  },
  {
   "cell_type": "code",
   "execution_count": 14,
   "id": "bf306934",
   "metadata": {},
   "outputs": [
    {
     "name": "stdout",
     "output_type": "stream",
     "text": [
      "CPU times: user 3.08 s, sys: 104 ms, total: 3.19 s\n",
      "Wall time: 903 ms\n"
     ]
    },
    {
     "data": {
      "text/plain": [
       "RandomForestRegressor(max_depth=10, min_samples_split=18, n_estimators=80,\n",
       "                      n_jobs=-1, random_state=42)"
      ]
     },
     "execution_count": 14,
     "metadata": {},
     "output_type": "execute_result"
    }
   ],
   "source": [
    "%%time\n",
    "# Most ideal hyperparameters\n",
    "ideal_model = RandomForestRegressor(n_estimators=80,\n",
    "                                    min_samples_leaf=1,\n",
    "                                    min_samples_split=18,\n",
    "                                    max_depth=10,\n",
    "                                    max_features='auto',\n",
    "                                    n_jobs=-1,\n",
    "                                    max_samples=None,\n",
    "                                    random_state=42)\n",
    "ideal_model.fit(X_train, y_train)"
   ]
  },
  {
   "cell_type": "code",
   "execution_count": 15,
   "id": "bd74fabb",
   "metadata": {},
   "outputs": [
    {
     "data": {
      "text/plain": [
       "{'Training MAE': 2.7572500482511235,\n",
       " 'Valid MAE': 2.981993326943737,\n",
       " 'Training RMSLE': 0.308496185728316,\n",
       " 'Valid RMSLE': 0.3549918472917627,\n",
       " 'Training R^2': 0.5289131264665223,\n",
       " 'Valid R^2': 0.3619619250578504}"
      ]
     },
     "execution_count": 15,
     "metadata": {},
     "output_type": "execute_result"
    }
   ],
   "source": [
    "show_scores(ideal_model)"
   ]
  },
  {
   "cell_type": "markdown",
   "id": "50fd8f05",
   "metadata": {},
   "source": [
    "# Make predictions on test data"
   ]
  },
  {
   "cell_type": "code",
   "execution_count": 16,
   "id": "2d2705e7",
   "metadata": {},
   "outputs": [],
   "source": [
    "# Split test_data into X & y\n",
    "X_test, y_test = df_test_hourly.drop(\"Hourly_calls\", axis=1), df_test_hourly.Hourly_calls "
   ]
  },
  {
   "cell_type": "code",
   "execution_count": 17,
   "id": "ef0edd7e",
   "metadata": {},
   "outputs": [],
   "source": [
    "# Make predictions on the test dataset\n",
    "test_preds = ideal_model.predict(X_test)"
   ]
  },
  {
   "cell_type": "code",
   "execution_count": 18,
   "id": "8d7fe4c6",
   "metadata": {},
   "outputs": [
    {
     "data": {
      "text/plain": [
       "array([15.41774585, 23.34951371, 15.44563339, ...,  4.83596188,\n",
       "        8.33494005, 10.57732504])"
      ]
     },
     "execution_count": 18,
     "metadata": {},
     "output_type": "execute_result"
    }
   ],
   "source": [
    "test_preds"
   ]
  },
  {
   "cell_type": "markdown",
   "id": "af9db25f",
   "metadata": {},
   "source": [
    "# Compare predicted data with actual data"
   ]
  },
  {
   "cell_type": "code",
   "execution_count": 19,
   "id": "57ad36db",
   "metadata": {},
   "outputs": [
    {
     "data": {
      "text/html": [
       "<div>\n",
       "<style scoped>\n",
       "    .dataframe tbody tr th:only-of-type {\n",
       "        vertical-align: middle;\n",
       "    }\n",
       "\n",
       "    .dataframe tbody tr th {\n",
       "        vertical-align: top;\n",
       "    }\n",
       "\n",
       "    .dataframe thead th {\n",
       "        text-align: right;\n",
       "    }\n",
       "</style>\n",
       "<table border=\"1\" class=\"dataframe\">\n",
       "  <thead>\n",
       "    <tr style=\"text-align: right;\">\n",
       "      <th></th>\n",
       "      <th>Predicted-calls</th>\n",
       "      <th>Actual-calls</th>\n",
       "    </tr>\n",
       "  </thead>\n",
       "  <tbody>\n",
       "    <tr>\n",
       "      <th>0</th>\n",
       "      <td>15.417746</td>\n",
       "      <td>18</td>\n",
       "    </tr>\n",
       "    <tr>\n",
       "      <th>1</th>\n",
       "      <td>23.349514</td>\n",
       "      <td>16</td>\n",
       "    </tr>\n",
       "    <tr>\n",
       "      <th>2</th>\n",
       "      <td>15.445633</td>\n",
       "      <td>15</td>\n",
       "    </tr>\n",
       "    <tr>\n",
       "      <th>3</th>\n",
       "      <td>15.472948</td>\n",
       "      <td>15</td>\n",
       "    </tr>\n",
       "    <tr>\n",
       "      <th>4</th>\n",
       "      <td>24.300273</td>\n",
       "      <td>14</td>\n",
       "    </tr>\n",
       "    <tr>\n",
       "      <th>...</th>\n",
       "      <td>...</td>\n",
       "      <td>...</td>\n",
       "    </tr>\n",
       "    <tr>\n",
       "      <th>8749</th>\n",
       "      <td>6.428993</td>\n",
       "      <td>10</td>\n",
       "    </tr>\n",
       "    <tr>\n",
       "      <th>8750</th>\n",
       "      <td>14.357887</td>\n",
       "      <td>10</td>\n",
       "    </tr>\n",
       "    <tr>\n",
       "      <th>8751</th>\n",
       "      <td>4.835962</td>\n",
       "      <td>9</td>\n",
       "    </tr>\n",
       "    <tr>\n",
       "      <th>8752</th>\n",
       "      <td>8.334940</td>\n",
       "      <td>8</td>\n",
       "    </tr>\n",
       "    <tr>\n",
       "      <th>8753</th>\n",
       "      <td>10.577325</td>\n",
       "      <td>8</td>\n",
       "    </tr>\n",
       "  </tbody>\n",
       "</table>\n",
       "<p>8754 rows × 2 columns</p>\n",
       "</div>"
      ],
      "text/plain": [
       "      Predicted-calls  Actual-calls\n",
       "0           15.417746            18\n",
       "1           23.349514            16\n",
       "2           15.445633            15\n",
       "3           15.472948            15\n",
       "4           24.300273            14\n",
       "...               ...           ...\n",
       "8749         6.428993            10\n",
       "8750        14.357887            10\n",
       "8751         4.835962             9\n",
       "8752         8.334940             8\n",
       "8753        10.577325             8\n",
       "\n",
       "[8754 rows x 2 columns]"
      ]
     },
     "execution_count": 19,
     "metadata": {},
     "output_type": "execute_result"
    }
   ],
   "source": [
    "# Compare target and prediction data\n",
    "df_compare_Randomforest = pd.DataFrame()\n",
    "df_compare_Randomforest[\"Predicted-calls\"] = test_preds\n",
    "df_compare_Randomforest[\"Actual-calls\"] = y_test\n",
    "df_compare_Randomforest"
   ]
  },
  {
   "cell_type": "code",
   "execution_count": 20,
   "id": "99a9a64a",
   "metadata": {},
   "outputs": [],
   "source": [
    "# Save \n",
    "df_compare_Randomforest.to_csv(\"compare_Randomforest.csv\", index=False)"
   ]
  },
  {
   "cell_type": "code",
   "execution_count": 21,
   "id": "1ed0c4fa",
   "metadata": {},
   "outputs": [],
   "source": [
    "# Import data\n",
    "df_compare_Randomforest = pd.read_csv(\"compare_Randomforest.csv\")"
   ]
  },
  {
   "cell_type": "code",
   "execution_count": 22,
   "id": "d5959030",
   "metadata": {},
   "outputs": [
    {
     "data": {
      "text/plain": [
       "<matplotlib.legend.Legend at 0x7fed880d9760>"
      ]
     },
     "execution_count": 22,
     "metadata": {},
     "output_type": "execute_result"
    },
    {
     "data": {
      "image/png": "[encoded data removed]",
      "text/plain": [
       "<Figure size 2160x360 with 1 Axes>"
      ]
     },
     "metadata": {
      "needs_background": "light"
     },
     "output_type": "display_data"
    }
   ],
   "source": [
    "plt.figure(figsize=(30,5))\n",
    "plt.title(\"prediction vs target\")\n",
    "plt.plot(y_test , label='target')\n",
    "plt.plot(test_preds, label='prediction')\n",
    "plt.legend()"
   ]
  },
  {
   "cell_type": "markdown",
   "id": "0badcf0f",
   "metadata": {},
   "source": [
    "# Feature Importance"
   ]
  },
  {
   "cell_type": "code",
   "execution_count": 23,
   "id": "7e1a4018",
   "metadata": {},
   "outputs": [
    {
     "data": {
      "text/plain": [
       "array([0.00826678, 0.06338765, 0.00212136, 0.02499549, 0.05953804,\n",
       "       0.84169068])"
      ]
     },
     "execution_count": 23,
     "metadata": {},
     "output_type": "execute_result"
    }
   ],
   "source": [
    "# Find feature importance of our best model\n",
    "ideal_model.feature_importances_\n"
   ]
  },
  {
   "cell_type": "code",
   "execution_count": 24,
   "id": "122ca712",
   "metadata": {},
   "outputs": [],
   "source": [
    "# Helper function for plotting feature importance\n",
    "def plot_features(columns, importances, n=20):\n",
    "    df = (pd.DataFrame({\"features\": columns,\n",
    "                        \"feature_importances\": importances})\n",
    "          .sort_values(\"feature_importances\", ascending=False)\n",
    "          .reset_index(drop=True))\n",
    "    \n",
    "    # Plot the dataframe\n",
    "    fig, ax = plt.subplots()\n",
    "    ax.barh(df[\"features\"][:n], df[\"feature_importances\"][:20])\n",
    "    ax.set_ylabel(\"Features\")\n",
    "    ax.set_xlabel(\"Feature importance\")\n",
    "    ax.invert_yaxis()"
   ]
  },
  {
   "cell_type": "code",
   "execution_count": 25,
   "id": "75d20e13",
   "metadata": {},
   "outputs": [
    {
     "data": {
      "image/png": "[encoded data removed]",
      "text/plain": [
       "<Figure size 432x288 with 1 Axes>"
      ]
     },
     "metadata": {
      "needs_background": "light"
     },
     "output_type": "display_data"
    }
   ],
   "source": [
    "plot_features(X_train.columns, ideal_model.feature_importances_)"
   ]
  },
  {
   "cell_type": "code",
   "execution_count": 45,
   "id": "5d476c5a",
   "metadata": {},
   "outputs": [
    {
     "data": {
      "text/plain": [
       "4    90089\n",
       "3    88014\n",
       "5    87528\n",
       "2    87504\n",
       "0    86936\n",
       "1    86762\n",
       "6    82473\n",
       "Name: Day-of-week, dtype: int64"
      ]
     },
     "execution_count": 45,
     "metadata": {},
     "output_type": "execute_result"
    }
   ],
   "source": [
    "df[\"Day-of-week\"].value_counts()"
   ]
  },
  {
   "cell_type": "code",
   "execution_count": 46,
   "id": "3652ccec",
   "metadata": {},
   "outputs": [
    {
     "data": {
      "text/plain": [
       "17    34042\n",
       "16    33181\n",
       "18    33142\n",
       "13    33075\n",
       "15    32925\n",
       "14    32693\n",
       "12    32239\n",
       "19    31264\n",
       "11    31218\n",
       "10    29646\n",
       "20    29620\n",
       "21    27665\n",
       "9     27562\n",
       "8     24604\n",
       "22    24565\n",
       "23    22058\n",
       "7     20133\n",
       "0     19835\n",
       "1     18040\n",
       "6     16304\n",
       "2     16236\n",
       "3     13272\n",
       "5     13208\n",
       "4     12779\n",
       "Name: Hour, dtype: int64"
      ]
     },
     "execution_count": 46,
     "metadata": {},
     "output_type": "execute_result"
    }
   ],
   "source": [
    "df[\"Hour\"].value_counts()"
   ]
  },
  {
   "cell_type": "markdown",
   "id": "57f4e279",
   "metadata": {},
   "source": [
    "# What Next\n",
    "\n",
    "### We should add more features in our database like weather. Because weather conditions have effect on happening accident and amount of call to 911\n",
    "\n",
    "### These features can be very helpful to increase our result:\n",
    "  - temperature of every day\n",
    "  - wind \n",
    "  - humidity \n",
    "  - ...\n",
    "  "
   ]
  },
  {
   "cell_type": "code",
   "execution_count": null,
   "id": "ced5e1e1",
   "metadata": {},
   "outputs": [],
   "source": []
  }
 ],
 "metadata": {
  "kernelspec": {
   "display_name": "Python 3",
   "language": "python",
   "name": "python3"
  },
  "language_info": {
   "codemirror_mode": {
    "name": "ipython",
    "version": 3
   },
   "file_extension": ".py",
   "mimetype": "text/x-python",
   "name": "python",
   "nbconvert_exporter": "python",
   "pygments_lexer": "ipython3",
   "version": "3.9.4"
  }
 },
 "nbformat": 4,
 "nbformat_minor": 5
}
